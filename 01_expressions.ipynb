{
  "nbformat": 4,
  "nbformat_minor": 0,
  "metadata": {
    "colab": {
      "provenance": [],
      "authorship_tag": "ABX9TyNTBlR2KctCrwPUEisp8YqZ"
    },
    "kernelspec": {
      "name": "python3",
      "display_name": "Python 3"
    },
    "language_info": {
      "name": "python"
    }
  },
  "cells": [
    {
      "cell_type": "markdown",
      "source": [
        "# ***01_dicesimulator***"
      ],
      "metadata": {
        "id": "FI8rqSB_r2Im"
      }
    },
    {
      "cell_type": "code",
      "execution_count": null,
      "metadata": {
        "id": "76gDlBW1rn9v",
        "colab": {
          "base_uri": "https://localhost:8080/"
        },
        "outputId": "43f03c9c-19b1-4319-8be0-eac8a42cbf73"
      },
      "outputs": [
        {
          "output_type": "stream",
          "name": "stdout",
          "text": [
            "Die 1: 4 , Die 2: 2 , Total: 6\n",
            "Die 1: 1 , Die 2: 2 , Total: 3\n",
            "Die 1: 5 , Die 2: 6 , Total: 11\n"
          ]
        }
      ],
      "source": [
        "import random\n",
        "sides_total = 6\n",
        "\n",
        "def roll_dice():\n",
        "  dice1 = random.randint(1, sides_total)\n",
        "  dice2 = random.randint(1, sides_total)\n",
        "  print(f\"Die 1: {dice1} , Die 2: {dice2} , Total: {dice1 + dice2}\")\n",
        "\n",
        "def main():\n",
        "  for _ in range(3):\n",
        "    roll_dice()\n",
        "\n",
        "if __name__ == \"__main__\":\n",
        "  main()"
      ]
    },
    {
      "cell_type": "markdown",
      "source": [
        "# ***02_e=mc2***"
      ],
      "metadata": {
        "id": "yuxgX58lg4Te"
      }
    },
    {
      "cell_type": "code",
      "source": [
        "C: int = 299792458 #m/s.\n",
        "try:\n",
        " asking_for_mass= float(input(\"Enter kilos of mass: \"))\n",
        "\n",
        " energy = asking_for_mass * (C ** 2)\n",
        " print(\"e = m * C^2...\")\n",
        " print(f\"m= {asking_for_mass} kg\")\n",
        " print(f\"{C} m/s\")\n",
        " print(f\"{energy}joules of energy\")\n",
        "\n",
        "except ValueError:\n",
        "  print(\"you need to enter a number.\")\n"
      ],
      "metadata": {
        "id": "MeveqctohLwi",
        "colab": {
          "base_uri": "https://localhost:8080/"
        },
        "outputId": "25ede4d7-3fa1-470c-d821-997f4fb84e34"
      },
      "execution_count": null,
      "outputs": [
        {
          "output_type": "stream",
          "name": "stdout",
          "text": [
            "Enter kilos of mass: 60\n",
            "e = m * C^2...\n",
            "m= 60.0 kg\n",
            "299792458 m/s\n",
            "5.392531072420906e+18joules of energy\n"
          ]
        }
      ]
    },
    {
      "cell_type": "markdown",
      "source": [
        "# ***03_feet_to_inches***"
      ],
      "metadata": {
        "id": "04ZCyAordwZV"
      }
    },
    {
      "cell_type": "code",
      "source": [
        "print(\"Welcome to Feet to Inches convertor\")\n",
        "inches_in_foot = 12\n",
        "try:\n",
        " feet = float(input(\"Enter a number of feet to convert: \"))\n",
        " inches = feet * inches_in_foot\n",
        " print(f\"There is {inches} inches in {feet} feet.\")\n",
        "except ValueError:\n",
        "  print(\"You need to enter a number.\")"
      ],
      "metadata": {
        "colab": {
          "base_uri": "https://localhost:8080/"
        },
        "id": "TqFJpu-qeNH5",
        "outputId": "9783e3cd-3837-4002-fe43-bc2bab5ce26c"
      },
      "execution_count": null,
      "outputs": [
        {
          "output_type": "stream",
          "name": "stdout",
          "text": [
            "Welcome to Feet to Inches convertor\n",
            "Enter a number of feet to convert: 9\n",
            "There is 108.0 inches in 9.0 feet.\n"
          ]
        }
      ]
    },
    {
      "cell_type": "markdown",
      "source": [
        "# ***04_pythagorean_theorem***"
      ],
      "metadata": {
        "id": "wiaS2UgUhtKd"
      }
    },
    {
      "cell_type": "code",
      "source": [
        "import math\n",
        "print(\"Welcome to pythagorean-theorem app.\")\n",
        "try:\n",
        " side1 = float(input(\"Enter the length of AB: \"))\n",
        " side2 = float(input(\"Enter the length of AC: \"))\n",
        "\n",
        " side3 = math.sqrt(side1 ** 2 + side2 ** 2)\n",
        " print(f\"The length of BC (the hypotenuse) is: {side3}\")\n",
        "\n",
        "except ValueError:\n",
        "  print(\"You need to enter a number.\")"
      ],
      "metadata": {
        "id": "ig1YvPt5h8Na",
        "colab": {
          "base_uri": "https://localhost:8080/"
        },
        "outputId": "f0236d96-bc67-4038-9548-39dec8e5a7a8"
      },
      "execution_count": null,
      "outputs": [
        {
          "output_type": "stream",
          "name": "stdout",
          "text": [
            "Welcome to pythagorean-theorem app.\n",
            "Enter the length of AB: 5\n",
            "Enter the length of AC: 7\n",
            "The length of BC (the hypotenuse) is: 8.602325267042627\n"
          ]
        }
      ]
    },
    {
      "cell_type": "markdown",
      "source": [
        "# ***05_remainder_division***"
      ],
      "metadata": {
        "id": "kqqnPykw15CZ"
      }
    },
    {
      "cell_type": "code",
      "source": [
        "print(\"Welcome to the number dividing app.\")\n",
        "try:\n",
        "  dividend = int(input(\"Please enter an integer to be divided: \"))\n",
        "  divisor = int(input(\"Please enter an integer to divide by: \"))\n",
        "\n",
        "  quotient = dividend // divisor\n",
        "  remainder = dividend % divisor\n",
        "\n",
        "  print(f\"The result of this division is {quotient} with a remainder of {remainder}\")\n",
        "except ValueError:\n",
        " print(\"You need to enter an integer\")\n",
        "\n",
        "except ZeroDivisionError:\n",
        "  print(\"You can't divide by zero\")"
      ],
      "metadata": {
        "colab": {
          "base_uri": "https://localhost:8080/"
        },
        "id": "Krpt7pg_2Dxn",
        "outputId": "cd53a6aa-c903-4099-f03a-f71075f2f750"
      },
      "execution_count": null,
      "outputs": [
        {
          "output_type": "stream",
          "name": "stdout",
          "text": [
            "Welcome to the number dividing app.\n",
            "Please enter an integer to be divided: 5\n",
            "Please enter an integer to divide by: 4\n",
            "The result of this division is 1 with a remainder of 1\n"
          ]
        }
      ]
    },
    {
      "cell_type": "markdown",
      "source": [
        "# ***06_rolldice***"
      ],
      "metadata": {
        "id": "onYmYGN26zE2"
      }
    },
    {
      "cell_type": "code",
      "source": [
        "import random\n",
        "print(\"Welcome to dice roller.\")\n",
        "dice_sides =6\n",
        "\n",
        "die1 = random.randint(1, dice_sides)\n",
        "die2 = random.randint(1, dice_sides)\n",
        "total = die1 + die2\n",
        "\n",
        "print(f\"Each die has {dice_sides} sides.\")\n",
        "print(f\"First die: {die1}\")\n",
        "print(f\"Second die: {die2}\")\n",
        "print(f\"Total of two dice: {total}\")"
      ],
      "metadata": {
        "id": "84Xy2LLZ6yEi",
        "colab": {
          "base_uri": "https://localhost:8080/"
        },
        "outputId": "57f487c8-ddf0-4527-dcb6-687b0972fa4a"
      },
      "execution_count": null,
      "outputs": [
        {
          "output_type": "stream",
          "name": "stdout",
          "text": [
            "Welcome to dice roller.\n",
            "Each die has 6 sides.\n",
            "First die: 5\n",
            "Second die: 1\n",
            "Total of two dice: 6\n"
          ]
        }
      ]
    },
    {
      "cell_type": "markdown",
      "source": [
        "# ***06_seconds_in_year***"
      ],
      "metadata": {
        "id": "zOh4Rb6OmtXS"
      }
    },
    {
      "cell_type": "code",
      "source": [
        "days_per_year= 365\n",
        "hours_per_day = 24\n",
        "min_per_hour = 60\n",
        "sec_per_min = 60\n",
        "\n",
        "seconds_in_year = days_per_year * hours_per_day * min_per_hour * sec_per_min\n",
        "\n",
        "print(f\"There are {seconds_in_year} seconds in a year!\")"
      ],
      "metadata": {
        "id": "etb1i9pbnE1B",
        "colab": {
          "base_uri": "https://localhost:8080/"
        },
        "outputId": "87a815a5-99e3-4560-e727-f75d01b22ad4"
      },
      "execution_count": 2,
      "outputs": [
        {
          "output_type": "stream",
          "name": "stdout",
          "text": [
            "There are 31536000 seconds in a year!\n"
          ]
        }
      ]
    },
    {
      "cell_type": "markdown",
      "source": [
        "# ***07_tiny_mad_lib***"
      ],
      "metadata": {
        "id": "56HBG0aom8Mr"
      }
    },
    {
      "cell_type": "code",
      "source": [
        "print(\"Welcome to Tiny Mad Libs\")\n",
        "SENTENCE_START: str = \"Panaversity is fun. I learned to program and used Python to make my\"\n",
        "\n",
        "adjuctive: str = input(\"Please type an adjective and press enter. \")\n",
        "noun: str = input(\"Please type a noun and press enter. \")\n",
        "verb: str = input(\"Please type a verb and press enter. \")\n",
        "\n",
        "print(f\"{SENTENCE_START} {adjuctive} {noun} {verb}\")\n"
      ],
      "metadata": {
        "id": "PM9rnd2XnHUb",
        "colab": {
          "base_uri": "https://localhost:8080/"
        },
        "outputId": "2f19eea9-db37-4baf-e76d-3aeb5c50ffe1"
      },
      "execution_count": 8,
      "outputs": [
        {
          "output_type": "stream",
          "name": "stdout",
          "text": [
            "Welcome to Tiny Mad Libs\n",
            "Please type an adjective and press enter. tiny\n",
            "Please type a noun and press enter. plant\n",
            "Please type a verb and press enter. fly\n",
            "Panaversity is fun. I learned to program and used Python to make my tiny plant fly\n"
          ]
        }
      ]
    }
  ]
}