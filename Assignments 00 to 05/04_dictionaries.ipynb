{
  "nbformat": 4,
  "nbformat_minor": 0,
  "metadata": {
    "colab": {
      "provenance": [],
      "authorship_tag": "ABX9TyOBMbWjYMrazI5kQ4Q9Ax03",
      "include_colab_link": true
    },
    "kernelspec": {
      "name": "python3",
      "display_name": "Python 3"
    },
    "language_info": {
      "name": "python"
    }
  },
  "cells": [
    {
      "cell_type": "markdown",
      "metadata": {
        "id": "view-in-github",
        "colab_type": "text"
      },
      "source": [
        "<a href=\"https://colab.research.google.com/github/abdulrahman-58/Project-4-Assignments/blob/main/04_dictionaries.ipynb\" target=\"_parent\"><img src=\"https://colab.research.google.com/assets/colab-badge.svg\" alt=\"Open In Colab\"/></a>"
      ]
    },
    {
      "cell_type": "markdown",
      "source": [
        "# ***00_count_nums***"
      ],
      "metadata": {
        "id": "JygAw_Y8dZkt"
      }
    },
    {
      "cell_type": "code",
      "execution_count": null,
      "metadata": {
        "id": "6bxC3nTKdOZy",
        "colab": {
          "base_uri": "https://localhost:8080/"
        },
        "outputId": "8444b960-81de-4347-f02d-990f63b8cd80"
      },
      "outputs": [
        {
          "output_type": "stream",
          "name": "stdout",
          "text": [
            "Enter a number: 6\n",
            "Enter a number: 7\n",
            "Enter a number: 9\n",
            "Enter a number: 3\n",
            "Enter a number: 8\n",
            "Enter a number: 9\n",
            "Enter a number: 7\n",
            "Enter a number: 5\n",
            "Enter a number: 8\n",
            "Enter a number: \n",
            "6 appears 1 times.\n",
            "7 appears 2 times.\n",
            "9 appears 2 times.\n",
            "3 appears 1 times.\n",
            "8 appears 2 times.\n",
            "5 appears 1 times.\n"
          ]
        }
      ],
      "source": [
        "def get_user_num():\n",
        "   \"\"\"\n",
        "    Create an empty list.\n",
        "    Ask the user to input numbers and store them in a list.\n",
        "    Once they enter a blank line, break out of the loop and return the list.\n",
        "    \"\"\"\n",
        "   user_num = []\n",
        "   while True:\n",
        "        user_input = input(\"Enter a number: \")\n",
        "        if user_input == \"\":\n",
        "            break\n",
        "        num = int(user_input)\n",
        "        user_num.append(num)\n",
        "   return user_num\n",
        "\n",
        "def count_nums(num_list):\n",
        "    \"\"\"\n",
        "    Create an empty dictionary.\n",
        "    Loop over the list of numbers.\n",
        "    If the number is not in the dictionary, add it as a key with a value of 1.\n",
        "    If the number is in the dictionary, increment its value by 1.\n",
        "    \"\"\"\n",
        "    num_dict = {}\n",
        "    for num in num_list:\n",
        "      if num not in num_dict:\n",
        "        num_dict[num] = 1\n",
        "      else:\n",
        "        num_dict[num] += 1\n",
        "    return num_dict\n",
        "\n",
        "def print_counts(num_dict):\n",
        "    \"\"\"\n",
        "    Loop over the dictionary and print out each key and its value.\n",
        "    \"\"\"\n",
        "    for num in num_dict:\n",
        "       print(f\"{num} appears {num_dict[num]} times.\")\n",
        "def main():\n",
        " user_num = get_user_num()\n",
        " new_dict = count_nums(user_num)\n",
        " print_counts(new_dict)\n",
        "\n",
        "if __name__ == \"__main__\":\n",
        "    main()"
      ]
    },
    {
      "cell_type": "markdown",
      "source": [
        "# ***01_phonebook***"
      ],
      "metadata": {
        "id": "uoVBrtDTdZw9"
      }
    },
    {
      "cell_type": "code",
      "source": [
        "def read_phone_numbers():\n",
        "   \"\"\"\n",
        "    Ask the user for names/numbers to story in a phonebook (dictionary).\n",
        "    Returns the phonebook.\n",
        "    \"\"\"\n",
        "   phone_book = {}\n",
        "   while True:\n",
        "    name = input(\"Enter a name: \")\n",
        "    if name == \"\":\n",
        "      break\n",
        "    number = input(\"Enter a number: \")\n",
        "    phone_book[name] = number\n",
        "   return phone_book\n",
        "\n",
        "def print_phone_book(phonebook):\n",
        "    \"\"\"\n",
        "    Prints out all the names/numbers in the phonebook.\n",
        "    \"\"\"\n",
        "    for name in phonebook:\n",
        "      print(f\"{name}: {phonebook[name]}\")\n",
        "\n",
        "def lookup_number(phonebook):\n",
        "    \"\"\"\n",
        "    Allow the user to lookup phone numbers in the phonebook\n",
        "    by looking up the number associated with a name.\n",
        "    \"\"\"\n",
        "    while True:\n",
        "      name = input(\"Enter a name to lookup: \")\n",
        "      if name == \"\":\n",
        "        break\n",
        "      if name not in phonebook:\n",
        "        print(f\"{name} not found in phonebook.\")\n",
        "      else:\n",
        "        print(phonebook[name])\n",
        "\n",
        "def main():\n",
        "  phonebook = read_phone_numbers()\n",
        "  print_phone_book(phonebook)\n",
        "  lookup_number(phonebook)\n",
        "\n",
        "if __name__ == \"__main__\":\n",
        "  main()"
      ],
      "metadata": {
        "id": "uaNHXssldekT",
        "colab": {
          "base_uri": "https://localhost:8080/"
        },
        "outputId": "a4926df3-462e-48b1-943e-8c1a06308409"
      },
      "execution_count": null,
      "outputs": [
        {
          "name": "stdout",
          "output_type": "stream",
          "text": [
            "Enter a name: abid\n",
            "Enter a number: 03004050601\n",
            "Enter a name: ali\n",
            "Enter a number: 03001020301\n",
            "Enter a name: shahid\n",
            "Enter a number: 03145678902\n",
            "Enter a name: \n",
            "abid: 03004050601\n",
            "ali: 03001020301\n",
            "shahid: 03145678902\n",
            "Enter a name to lookup: amir\n",
            "amir not found in phonebook.\n",
            "Enter a name to lookup: aslam\n",
            "aslam not found in phonebook.\n",
            "Enter a name to lookup: ali\n",
            "03001020301\n",
            "Enter a name to lookup: \n"
          ]
        }
      ]
    },
    {
      "cell_type": "markdown",
      "source": [
        "# ***02_pop_up_shop***"
      ],
      "metadata": {
        "id": "4G9Ld-_4dZ-b"
      }
    },
    {
      "cell_type": "code",
      "source": [
        "def main():\n",
        "  print(\"Welcome to the Pop-Up Shop!\")\n",
        "  fruits = {'apple': 1.5, 'durian': 50, 'jackfruit': 80, 'kiwi': 1, 'rambutan': 1.5, 'mango': 5}\n",
        "  total_cost = 0\n",
        "  try:\n",
        "   for fruit_name in fruits:\n",
        "    price = fruits[fruit_name]\n",
        "    print(f\"{fruit_name}: ${price}\")\n",
        "    amount_bought = int(input(f\"How many {fruit_name}s do you want to buy? \"))\n",
        "    total_cost += price * amount_bought\n",
        "\n",
        "   print(f\"Your tatal is: ${total_cost}\")\n",
        "  except ValueError:\n",
        "   print(\"Invalid input. Please enter a valid number.\")\n",
        "\n",
        "if __name__ == '__main__':\n",
        "    main()"
      ],
      "metadata": {
        "id": "yy67Wni3deIL",
        "colab": {
          "base_uri": "https://localhost:8080/"
        },
        "outputId": "5a80452c-3263-4516-f123-e8d567c64003"
      },
      "execution_count": null,
      "outputs": [
        {
          "output_type": "stream",
          "name": "stdout",
          "text": [
            "Welcome to the Pop-Up Shop!\n",
            "apple: $1.5\n",
            "How many apples do you want to buy? 7\n",
            "durian: $50\n",
            "How many durians do you want to buy? 4\n",
            "jackfruit: $80\n",
            "How many jackfruits do you want to buy? 0\n",
            "kiwi: $1\n",
            "How many kiwis do you want to buy? 7\n",
            "rambutan: $1.5\n",
            "How many rambutans do you want to buy? 8\n",
            "mango: $5\n",
            "How many mangos do you want to buy? 15\n",
            "Your tatal is: $304.5\n"
          ]
        }
      ]
    },
    {
      "cell_type": "markdown",
      "source": [
        "# ***03_powerful_passwords***"
      ],
      "metadata": {
        "id": "xOe_IAlddaLU"
      }
    },
    {
      "cell_type": "code",
      "source": [
        "from hashlib import sha256\n",
        "\n",
        "def login(email , stored_logins , password_to_check):\n",
        "   \"\"\"\n",
        "   Returns True if the hash of the password we are checking matches the one in stored_logins\n",
        "   for a specific email. Otherwise, returns False.\n",
        "   \"\"\"\n",
        "   if stored_logins[email] == hash_password(password_to_check):\n",
        "     return True\n",
        "\n",
        "   return False\n",
        "\n",
        "def hash_password(password):\n",
        "    \"\"\"\n",
        "    Takes in a password and returns the SHA256 hashed value for that specific password.\n",
        "    Inputs:\n",
        "        password: the password we want\n",
        "\n",
        "    Outputs:\n",
        "        the hashed form of the input password\n",
        "    \"\"\"\n",
        "    return sha256(password.encode()).hexdigest()\n",
        "\n",
        "def main():\n",
        "  # stored_logins is a dictionary with emails as keys and hashed passwords as values\n",
        "    stored_logins = {\n",
        "        \"example@gmail.com\": \"5e884898da28047151d0e56f8dc6292773603d0d6aabbdd62a11ef721d1542d8\",\n",
        "        \"code_in_placer@cip.org\": \"973607a4ae7b4cf7d96a100b0fb07e8519cc4f70441d41214a9f811577bb06cc\",\n",
        "        \"student@stanford.edu\": \"882c6df720fd99f5eebb1581a1cf975625cea8a160283011c0b9512bb56c95fb\"\n",
        "    }\n",
        "\n",
        "    print(login(\"example@gmail.com\", stored_logins, \"word\"))\n",
        "    print(login(\"example@gmail.com\", stored_logins, \"password\"))\n",
        "\n",
        "    print(login(\"code_in_placer@cip.org\", stored_logins, \"Karel\"))\n",
        "    print(login(\"code_in_placer@cip.org\", stored_logins, \"karel\"))\n",
        "\n",
        "    print(login(\"student@stanford.edu\", stored_logins, \"password\"))\n",
        "    print(login(\"student@stanford.edu\", stored_logins, \"123!456?789\"))\n",
        "\n",
        "if __name__ == \"__main__\":\n",
        "    main()\n"
      ],
      "metadata": {
        "id": "zbeoWOG8ddZj",
        "colab": {
          "base_uri": "https://localhost:8080/"
        },
        "outputId": "e3a6fe49-0d44-4ab9-e52b-49be9f4db3ad"
      },
      "execution_count": 4,
      "outputs": [
        {
          "output_type": "stream",
          "name": "stdout",
          "text": [
            "False\n",
            "True\n",
            "False\n",
            "True\n",
            "False\n",
            "True\n"
          ]
        }
      ]
    }
  ]
}