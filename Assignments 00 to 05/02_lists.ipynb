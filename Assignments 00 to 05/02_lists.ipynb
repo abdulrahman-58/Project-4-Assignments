{
  "nbformat": 4,
  "nbformat_minor": 0,
  "metadata": {
    "colab": {
      "provenance": [],
      "authorship_tag": "ABX9TyOPJ2FkZvnOwxL1J0omrBV8",
      "include_colab_link": true
    },
    "kernelspec": {
      "name": "python3",
      "display_name": "Python 3"
    },
    "language_info": {
      "name": "python"
    }
  },
  "cells": [
    {
      "cell_type": "markdown",
      "metadata": {
        "id": "view-in-github",
        "colab_type": "text"
      },
      "source": [
        "<a href=\"https://colab.research.google.com/github/abdulrahman-58/Project-4-Assignments/blob/main/02_lists.ipynb\" target=\"_parent\"><img src=\"https://colab.research.google.com/assets/colab-badge.svg\" alt=\"Open In Colab\"/></a>"
      ]
    },
    {
      "cell_type": "markdown",
      "source": [
        "# ***01_add_many_number***"
      ],
      "metadata": {
        "id": "gV_DpStYiS3E"
      }
    },
    {
      "cell_type": "code",
      "execution_count": null,
      "metadata": {
        "id": "s1w-_Ad-iLZD",
        "colab": {
          "base_uri": "https://localhost:8080/"
        },
        "outputId": "4409dd0d-881c-4251-921c-0089354b5ecd"
      },
      "outputs": [
        {
          "output_type": "stream",
          "name": "stdout",
          "text": [
            "21\n"
          ]
        }
      ],
      "source": [
        "def add_many_num(numbers)-> int:\n",
        "  \"\"\"\n",
        "  Takes in a list of numbers and return the sum.\n",
        "  \"\"\"\n",
        "  total_num = 0\n",
        "  for number in numbers:\n",
        "    total_num += number\n",
        "  return total_num\n",
        "\n",
        "def main():\n",
        "  numbers: list[int]= [1,2,3,4,5,6]\n",
        "  sum = add_many_num(numbers)\n",
        "  print(sum)\n",
        "\n",
        "if __name__ == '__main__':\n",
        "    main()"
      ]
    },
    {
      "cell_type": "markdown",
      "source": [
        "# ***02_double_list***"
      ],
      "metadata": {
        "id": "PVd4rH53xBWR"
      }
    },
    {
      "cell_type": "code",
      "source": [
        "numbers = [1,2,3,4]\n",
        "\n",
        "for i in range(len(numbers)):\n",
        "  elm_at_index = numbers[i]\n",
        "  numbers[i] = elm_at_index * 2\n",
        "print(numbers)"
      ],
      "metadata": {
        "colab": {
          "base_uri": "https://localhost:8080/"
        },
        "id": "GXiGV4afyFrB",
        "outputId": "0851ab5e-8865-4563-904f-c2759960d90d"
      },
      "execution_count": null,
      "outputs": [
        {
          "output_type": "stream",
          "name": "stdout",
          "text": [
            "[2, 4, 6, 8]\n"
          ]
        }
      ]
    },
    {
      "cell_type": "markdown",
      "source": [
        "# ***03_erase_canvas***\n",
        "\n",
        "run the below code in the normal runtime terminal by creating app.py it will show the result according to requirements. Thankyou!"
      ],
      "metadata": {
        "id": "TNkGjhoPxJRd"
      }
    },
    {
      "cell_type": "code",
      "source": [
        "import tkinter as tk\n",
        "\n",
        "# Constants\n",
        "CANVAS_WIDTH = 400\n",
        "CANVAS_HEIGHT = 400\n",
        "CELL_SIZE = 40\n",
        "ERASER_SIZE = 20\n",
        "\n",
        "# Create window\n",
        "root = tk.Tk()\n",
        "root.title(\"Canvas Eraser\")\n",
        "\n",
        "canvas = tk.Canvas(root, width=CANVAS_WIDTH, height=CANVAS_HEIGHT, bg=\"white\")\n",
        "canvas.pack()\n",
        "\n",
        "# Draw grid of blue cells\n",
        "cells = []\n",
        "for row in range(0, CANVAS_HEIGHT, CELL_SIZE):\n",
        "    for col in range(0, CANVAS_WIDTH, CELL_SIZE):\n",
        "        cell = canvas.create_rectangle(\n",
        "            col, row, col + CELL_SIZE, row + CELL_SIZE,\n",
        "            fill=\"blue\", outline=\"black\"\n",
        "        )\n",
        "        cells.append(cell)\n",
        "\n",
        "# Function to erase cells\n",
        "def erase(event):\n",
        "    x1 = event.x - ERASER_SIZE // 2\n",
        "    y1 = event.y - ERASER_SIZE // 2\n",
        "    x2 = event.x + ERASER_SIZE // 2\n",
        "    y2 = event.y + ERASER_SIZE // 2\n",
        "\n",
        "    overlapping = canvas.find_overlapping(x1, y1, x2, y2)\n",
        "    for obj in overlapping:\n",
        "        if obj in cells:\n",
        "            canvas.itemconfig(obj, fill=\"white\")\n",
        "\n",
        "# Bind mouse movement with left button\n",
        "canvas.bind(\"<B1-Motion>\", erase)\n",
        "\n",
        "root.mainloop()\n"
      ],
      "metadata": {
        "id": "P8LOC8nx_6w3"
      },
      "execution_count": null,
      "outputs": []
    },
    {
      "cell_type": "markdown",
      "source": [
        "# ***04_flowing_with_data_structures***"
      ],
      "metadata": {
        "id": "1V44x4VWxREV"
      }
    },
    {
      "cell_type": "code",
      "source": [
        "def add_three_copies(my_list, data):\n",
        "  for i in range(3):\n",
        "    my_list.append(data)\n",
        "\n",
        "message = input(\"Enter a message to copy: \")\n",
        "my_list = []\n",
        "print(f\"List before: {my_list}\")\n",
        "add_three_copies(my_list, message)\n",
        "print(f\"List after: {my_list}\")"
      ],
      "metadata": {
        "id": "ttufHYIQyJVx",
        "colab": {
          "base_uri": "https://localhost:8080/"
        },
        "outputId": "ac0b933f-bff0-459d-96f1-ee3e745b9dfd"
      },
      "execution_count": null,
      "outputs": [
        {
          "output_type": "stream",
          "name": "stdout",
          "text": [
            "Enter a message to copy: Eid Mubarak\n",
            "List before: []\n",
            "List after: ['Eid Mubarak', 'Eid Mubarak', 'Eid Mubarak']\n"
          ]
        }
      ]
    },
    {
      "cell_type": "markdown",
      "source": [
        "# ***05_get_first_element***"
      ],
      "metadata": {
        "id": "RzcAGoobxWlU"
      }
    },
    {
      "cell_type": "code",
      "source": [
        "\n",
        "def get_first_element(fst):\n",
        "  \"\"\"\n",
        "  Returns the first element in the list.\n",
        "  \"\"\"\n",
        "  if len(fst) == 0:\n",
        "    print(\"The list is empty.\")\n",
        "    return None\n",
        "  return fst[0]\n",
        "\n",
        "def get_1st():\n",
        "  \"\"\"\n",
        "  Prompts the user to enter one element of the list at a time and returns the resulting list.\n",
        "  \"\"\"\n",
        "  fst = []\n",
        "  element = input(\"Please enter an element of the list or press enter to stop: \")\n",
        "  while element != \"\":\n",
        "     fst.append(element)\n",
        "     element= input(\"Please enter an element of the list or press enter to stop: \")\n",
        "  return fst\n",
        "fst = get_1st()\n",
        "get_first_element(fst)"
      ],
      "metadata": {
        "id": "16CC2mLkyKI4",
        "colab": {
          "base_uri": "https://localhost:8080/",
          "height": 122
        },
        "outputId": "b13f2b17-f3d1-46ad-ebd3-44e2d960d557"
      },
      "execution_count": null,
      "outputs": [
        {
          "name": "stdout",
          "output_type": "stream",
          "text": [
            "Please enter an element of the list or press enter to stop: chai\n",
            "Please enter an element of the list or press enter to stop: parhata\n",
            "Please enter an element of the list or press enter to stop: sugar\n",
            "Please enter an element of the list or press enter to stop: sandwich\n",
            "Please enter an element of the list or press enter to stop: \n"
          ]
        },
        {
          "output_type": "execute_result",
          "data": {
            "text/plain": [
              "'chai'"
            ],
            "application/vnd.google.colaboratory.intrinsic+json": {
              "type": "string"
            }
          },
          "metadata": {},
          "execution_count": 74
        }
      ]
    },
    {
      "cell_type": "markdown",
      "source": [
        "# ***06_get_last_element***"
      ],
      "metadata": {
        "id": "fzazBafLxbZE"
      }
    },
    {
      "cell_type": "code",
      "source": [
        "def get_last_element(lst):\n",
        "   \"\"\" Prints the last element of the provided list. \"\"\"\n",
        "   if len(fst) == 0:\n",
        "     print(\"The list is empty.\")\n",
        "     return None\n",
        "   print(fst [-1])\n",
        "def get_1st():\n",
        "  \"\"\"\n",
        "  Prompts the user to enter one element of the list at a time and returns the resulting list.\n",
        "  \"\"\"\n",
        "  fst = []\n",
        "  element = input(\"Please enter an element of the list or press enter to stop: \")\n",
        "  while element != \"\":\n",
        "     fst.append(element)\n",
        "     element= input(\"Please enter an element of the list or press enter to stop: \")\n",
        "  return fst\n",
        "fst = get_1st()\n",
        "get_last_element(fst)"
      ],
      "metadata": {
        "id": "ZaF87eSuyK6R",
        "colab": {
          "base_uri": "https://localhost:8080/"
        },
        "outputId": "e5374eeb-c456-4f3a-dcde-931f695c7fba"
      },
      "execution_count": null,
      "outputs": [
        {
          "output_type": "stream",
          "name": "stdout",
          "text": [
            "Please enter an element of the list or press enter to stop: king\n",
            "Please enter an element of the list or press enter to stop: queen\n",
            "Please enter an element of the list or press enter to stop: love\n",
            "Please enter an element of the list or press enter to stop: \n",
            "love\n"
          ]
        }
      ]
    },
    {
      "cell_type": "markdown",
      "source": [
        "# ***07_get_list***"
      ],
      "metadata": {
        "id": "ajw_8Y01xgHc"
      }
    },
    {
      "cell_type": "code",
      "source": [
        "list = []\n",
        "value = input(\"Enter a value: \")\n",
        "while value != \"\":\n",
        "  list.append(value)\n",
        "  value = input(\"Enter a value: \")\n",
        "print(f\"Here's a list: {list}\")"
      ],
      "metadata": {
        "id": "2Yc33nTKyMVQ",
        "colab": {
          "base_uri": "https://localhost:8080/"
        },
        "outputId": "5c1b9f7b-2892-4cea-c8a8-144f1d49d86b"
      },
      "execution_count": null,
      "outputs": [
        {
          "output_type": "stream",
          "name": "stdout",
          "text": [
            "Enter a value: hy\n",
            "Enter a value: python\n",
            "Enter a value: my love\n",
            "Enter a value: \n",
            "Here's a list: ['hy', 'python', 'my love']\n"
          ]
        }
      ]
    },
    {
      "cell_type": "markdown",
      "source": [
        "# ***08_shorten***"
      ],
      "metadata": {
        "id": "YZ2pWuTqxxwr"
      }
    },
    {
      "cell_type": "code",
      "source": [
        "MAX_LENGTH = 3\n",
        "\n",
        "def shorten(lst):\n",
        "  while len(lst) > MAX_LENGTH:\n",
        "    last_elem = lst.pop()\n",
        "    print(last_elem)\n",
        "\n",
        "def get_lst():\n",
        "    \"\"\"\n",
        "    Prompts the user to enter one element of the list at a time and returns the resulting list.\n",
        "    \"\"\"\n",
        "    lst = []\n",
        "    elem = input(\"Please enter an element of the list or press enter to stop. \")\n",
        "    while elem != \"\" :\n",
        "      lst.append(elem)\n",
        "      elem = input(\"Please enter an element of the list or press enter to stop. \")\n",
        "    return lst\n",
        "def main():\n",
        " lst = get_lst()\n",
        " shorten(lst)\n",
        "\n",
        "if __name__ == '__main__':\n",
        "    main()"
      ],
      "metadata": {
        "id": "D65NvzPNyM4J",
        "colab": {
          "base_uri": "https://localhost:8080/"
        },
        "outputId": "f8f5b03c-6f58-4898-dd17-94166d4024ae"
      },
      "execution_count": 12,
      "outputs": [
        {
          "output_type": "stream",
          "name": "stdout",
          "text": [
            "Please enter an element of the list or press enter to stop. ramadan \n",
            "Please enter an element of the list or press enter to stop. chand raat\n",
            "Please enter an element of the list or press enter to stop. eid\n",
            "Please enter an element of the list or press enter to stop. eating\n",
            "Please enter an element of the list or press enter to stop. sleeping\n",
            "Please enter an element of the list or press enter to stop. \n",
            "sleeping\n",
            "eating\n"
          ]
        }
      ]
    }
  ]
}