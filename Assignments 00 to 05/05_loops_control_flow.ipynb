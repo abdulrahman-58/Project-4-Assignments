{
  "nbformat": 4,
  "nbformat_minor": 0,
  "metadata": {
    "colab": {
      "provenance": [],
      "authorship_tag": "ABX9TyPVmczY16XWRPyEtgb6+wrk",
      "include_colab_link": true
    },
    "kernelspec": {
      "name": "python3",
      "display_name": "Python 3"
    },
    "language_info": {
      "name": "python"
    }
  },
  "cells": [
    {
      "cell_type": "markdown",
      "metadata": {
        "id": "view-in-github",
        "colab_type": "text"
      },
      "source": [
        "<a href=\"https://colab.research.google.com/github/abdulrahman-58/Project-4-Assignments/blob/main/05_loops_control_flow.ipynb\" target=\"_parent\"><img src=\"https://colab.research.google.com/assets/colab-badge.svg\" alt=\"Open In Colab\"/></a>"
      ]
    },
    {
      "cell_type": "markdown",
      "source": [
        "# ***00_guess_my_number***"
      ],
      "metadata": {
        "id": "jsTMqNF8eMDB"
      }
    },
    {
      "cell_type": "code",
      "execution_count": null,
      "metadata": {
        "id": "PEvs_k_neCNG",
        "colab": {
          "base_uri": "https://localhost:8080/"
        },
        "outputId": "284f9139-45eb-4e05-e5c1-d5cee65cf8b7"
      },
      "outputs": [
        {
          "output_type": "stream",
          "name": "stdout",
          "text": [
            "Welcome to number guessing game\n",
            "I am thinking of a number between 1 and 99...\n",
            "Take a guess: 50\n",
            "Your guess is too high\n",
            "\n",
            "Take a new guess: 25\n",
            "Congratulations! You guessed the number!\n"
          ]
        }
      ],
      "source": [
        "import random\n",
        "def main():\n",
        " print(\"Welcome to number guessing game\")\n",
        "\n",
        " secret_number = random.randint(1,99)\n",
        "\n",
        " print(\"I am thinking of a number between 1 and 99...\")\n",
        " try:\n",
        "  guess = int(input(\"Take a guess: \"))\n",
        "  while guess != secret_number:\n",
        "   if guess < secret_number:\n",
        "    print(\"Your guess is too low\")\n",
        "   else:\n",
        "    print(\"Your guess is too high\")\n",
        "   print()\n",
        "   guess = int(input(\"Take a new guess: \"))\n",
        "\n",
        "  print(\"Congratulations! You guessed the number!\")\n",
        " except ValueError:\n",
        "  print(\"Invalid input. Please enter a valid number.\")\n",
        "\n",
        "\n",
        "\n",
        "if __name__ == '__main__':\n",
        "  main()\n"
      ]
    },
    {
      "cell_type": "markdown",
      "source": [
        "# ***01_fibonacci***"
      ],
      "metadata": {
        "id": "FfLI6vZreMPZ"
      }
    },
    {
      "cell_type": "code",
      "source": [
        "MAX_VAL = 10000\n",
        "\n",
        "def main():\n",
        "  current_term = 0\n",
        "  next_term = 1\n",
        "  while current_term <= MAX_VAL:\n",
        "    print(current_term , end =\" \")\n",
        "    term_after_next = current_term + next_term\n",
        "    current_term = next_term\n",
        "    next_term = term_after_next\n",
        "\n",
        "if __name__ == '__main__':\n",
        "  main()"
      ],
      "metadata": {
        "id": "OF9uzvHXeSmI",
        "colab": {
          "base_uri": "https://localhost:8080/"
        },
        "outputId": "a6e39628-fcd8-43ac-940f-a4e0f962eb16"
      },
      "execution_count": null,
      "outputs": [
        {
          "output_type": "stream",
          "name": "stdout",
          "text": [
            "0 1 1 2 3 5 8 13 21 34 55 89 144 233 377 610 987 1597 2584 4181 6765 "
          ]
        }
      ]
    },
    {
      "cell_type": "markdown",
      "source": [
        "# ***02_print_events***"
      ],
      "metadata": {
        "id": "wirG60nceMhh"
      }
    },
    {
      "cell_type": "code",
      "source": [
        "def main():\n",
        "  for i in range(20):\n",
        "    print(i * 2 , end =\" \")\n",
        "\n",
        "if __name__ == '__main__':\n",
        "  main()"
      ],
      "metadata": {
        "id": "YbwdLgfQeSN6",
        "colab": {
          "base_uri": "https://localhost:8080/"
        },
        "outputId": "09a0545e-3b67-43d2-b8e1-3f31bcd4d029"
      },
      "execution_count": null,
      "outputs": [
        {
          "output_type": "stream",
          "name": "stdout",
          "text": [
            "0 2 4 6 8 10 12 14 16 18 20 22 24 26 28 30 32 34 36 38 "
          ]
        }
      ]
    },
    {
      "cell_type": "markdown",
      "source": [
        "# ***03_wholesome_machine***"
      ],
      "metadata": {
        "id": "NICjypUxeMza"
      }
    },
    {
      "cell_type": "code",
      "source": [
        "AFFIRMATION : str = \"I am capable of doing anything I put my mind to.\"\n",
        "\n",
        "def main():\n",
        "  print(f\"Please write the following affirmation {AFFIRMATION}\")\n",
        "  user_ans = input()\n",
        "\n",
        "  while user_ans != AFFIRMATION:\n",
        "    print(\"That was not the affirmation.\")\n",
        "    print(f\"Please write the following affirmation {AFFIRMATION}\")\n",
        "    user_ans = input()\n",
        "\n",
        "  print(\"That was the affirmation.\")\n",
        "\n",
        "if __name__ == '__main__':\n",
        "  main()"
      ],
      "metadata": {
        "id": "9r9kl6d5eRcI",
        "colab": {
          "base_uri": "https://localhost:8080/"
        },
        "outputId": "abfe4401-2401-4dba-8d41-90d3752521ab"
      },
      "execution_count": 14,
      "outputs": [
        {
          "output_type": "stream",
          "name": "stdout",
          "text": [
            "Please write the following affirmation I am capable of doing anything I put my mind to.\n",
            "I am capable of doing anything I put my mind to\n",
            "That was not the affirmation.\n",
            "Please write the following affirmation I am capable of doing anything I put my mind to.\n",
            "I am capable of doing anything I put my mind to.\n",
            "That was the affirmation.\n"
          ]
        }
      ]
    },
    {
      "cell_type": "markdown",
      "source": [
        "# ***04_liftoff***"
      ],
      "metadata": {
        "id": "s59wuDvueNFB"
      }
    },
    {
      "cell_type": "code",
      "source": [
        "def main():\n",
        "  for i in range(10):\n",
        "    print(10 - i , end=\" \")\n",
        "  print(\"Liftoff!\")\n",
        "\n",
        "if __name__ == '__main__':\n",
        "  main()"
      ],
      "metadata": {
        "id": "fh_Rmj8ReQqw",
        "colab": {
          "base_uri": "https://localhost:8080/"
        },
        "outputId": "eb7838ab-f1a2-4e6b-b1d2-e955d23663dd"
      },
      "execution_count": 20,
      "outputs": [
        {
          "output_type": "stream",
          "name": "stdout",
          "text": [
            "10 9 8 7 6 5 4 3 2 1 Liftoff!\n"
          ]
        }
      ]
    },
    {
      "cell_type": "markdown",
      "source": [
        "# ***05_double_it***"
      ],
      "metadata": {
        "id": "ageczCnJeNXB"
      }
    },
    {
      "cell_type": "code",
      "source": [
        "def main():\n",
        "  try:\n",
        "   curr_val = int(input(\"Enter a number to see it's double that'll : \"))\n",
        "\n",
        "   while curr_val < 100:\n",
        "    curr_val *= 2\n",
        "    print(curr_val , end = \" \")\n",
        "\n",
        "  except ValueError:\n",
        "    print(\"Invalid input. Please enter a valid number.\")\n",
        "\n",
        "if __name__ == \"__main__\":\n",
        "  main()"
      ],
      "metadata": {
        "id": "PiWk9x-gePtw",
        "colab": {
          "base_uri": "https://localhost:8080/"
        },
        "outputId": "9904ce85-c895-4059-85da-22569c6774ce"
      },
      "execution_count": 30,
      "outputs": [
        {
          "output_type": "stream",
          "name": "stdout",
          "text": [
            "Enter a number to see it's double: 3\n",
            "6 12 24 48 96 192 "
          ]
        }
      ]
    }
  ]
}