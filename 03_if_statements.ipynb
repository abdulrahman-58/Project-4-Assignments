{
  "nbformat": 4,
  "nbformat_minor": 0,
  "metadata": {
    "colab": {
      "provenance": [],
      "authorship_tag": "ABX9TyOJLe3pWol0w0HCWgGpD1iX",
      "include_colab_link": true
    },
    "kernelspec": {
      "name": "python3",
      "display_name": "Python 3"
    },
    "language_info": {
      "name": "python"
    }
  },
  "cells": [
    {
      "cell_type": "markdown",
      "metadata": {
        "id": "view-in-github",
        "colab_type": "text"
      },
      "source": [
        "<a href=\"https://colab.research.google.com/github/abdulrahman-58/Project-4-Assignments/blob/main/03_if_statements.ipynb\" target=\"_parent\"><img src=\"https://colab.research.google.com/assets/colab-badge.svg\" alt=\"Open In Colab\"/></a>"
      ]
    },
    {
      "cell_type": "markdown",
      "source": [
        "# ***01_print_events***"
      ],
      "metadata": {
        "id": "OvOcV73vcNxw"
      }
    },
    {
      "cell_type": "code",
      "execution_count": null,
      "metadata": {
        "id": "YSN3X1IpbrjV",
        "colab": {
          "base_uri": "https://localhost:8080/"
        },
        "outputId": "0d4d2c4a-e122-44af-ab27-eac337ea483c"
      },
      "outputs": [
        {
          "output_type": "stream",
          "name": "stdout",
          "text": [
            "0\n",
            "2\n",
            "4\n",
            "6\n",
            "8\n",
            "10\n",
            "12\n",
            "14\n",
            "16\n",
            "18\n",
            "20\n",
            "22\n",
            "24\n",
            "26\n",
            "28\n",
            "30\n",
            "32\n",
            "34\n",
            "36\n",
            "38\n"
          ]
        }
      ],
      "source": [
        "for i in range(20):\n",
        "  print(i * 2)"
      ]
    },
    {
      "cell_type": "markdown",
      "source": [
        "# ***02_international_voting_age***"
      ],
      "metadata": {
        "id": "o-XjpMx7cN5w"
      }
    },
    {
      "cell_type": "code",
      "source": [
        "PETURKSBOUIPO_AGE : int = 16\n",
        "STANLAU_AGE : int = 25\n",
        "MAYENGUA_AGE : int = 48\n",
        "try:\n",
        " user_age = int(input(\"How old are you? \"))\n",
        "\n",
        " if user_age >= PETURKSBOUIPO_AGE:\n",
        "  print(f\"You can vote in the PETURKSBOUIPO where voting age is {PETURKSBOUIPO_AGE}.\")\n",
        " else :\n",
        "  print(f\"You can not vote in the PETURKSBOUIPO where voting age is {PETURKSBOUIPO_AGE}.\")\n",
        "\n",
        " if user_age >= STANLAU_AGE:\n",
        "  print(f\"You can vote in the STANLAU where voting age is {STANLAU_AGE}.\")\n",
        " else :\n",
        "  print(f\"You can not vote in the STANLAU where voting age is {STANLAU_AGE}.\")\n",
        "\n",
        " if user_age >= MAYENGUA_AGE:\n",
        "  print(f\"You can vote in the MAYENGUA where voting age is {MAYENGUA_AGE}.\")\n",
        " else :\n",
        "  print(f\"You can not vote in the MAYENGUA where voting age is {MAYENGUA_AGE}.\")\n",
        "\n",
        "except ValueError:\n",
        "  print(\"Invalid input. Please enter a valid number.\")"
      ],
      "metadata": {
        "id": "_t_koiGhcSeX",
        "colab": {
          "base_uri": "https://localhost:8080/"
        },
        "outputId": "92e14540-e8df-4216-b561-b6534fcb6706"
      },
      "execution_count": null,
      "outputs": [
        {
          "output_type": "stream",
          "name": "stdout",
          "text": [
            "How old are you? 19\n",
            "You can vote in the PETURKSBOUIPO where voting age is 16.\n",
            "You can not vote in the STANLAU where voting age is 25.\n",
            "You can not vote in the MAYENGUA where voting age is 48.\n"
          ]
        }
      ]
    },
    {
      "cell_type": "markdown",
      "source": [
        "# ***03_leap_year***"
      ],
      "metadata": {
        "id": "WFsTbyhLcOI_"
      }
    },
    {
      "cell_type": "code",
      "source": [
        "try:\n",
        " year = int(input(\"Please enter a year: \"))\n",
        "\n",
        " if year % 4 == 0:\n",
        "  if year % 100 == 0:\n",
        "    if year % 400 == 0:\n",
        "      print(f\"{year} is a leap year.\")\n",
        "    else:\n",
        "      print(f\"{year} is not a leap year.\")\n",
        "  else:\n",
        "    print(f\"{year} is a leap year.\")\n",
        " else:\n",
        "  print(f\"{year} is not a leap year.\")\n",
        "\n",
        "except ValueError:\n",
        "  print(\"Invalid input. Please enter a valid year.\")"
      ],
      "metadata": {
        "id": "miAqGMCEcTDf",
        "colab": {
          "base_uri": "https://localhost:8080/"
        },
        "outputId": "e9d023d8-b158-4cec-c1da-f85414530665"
      },
      "execution_count": null,
      "outputs": [
        {
          "output_type": "stream",
          "name": "stdout",
          "text": [
            "Please enter a year: 2024\n",
            "2024 is a leap year.\n"
          ]
        }
      ]
    },
    {
      "cell_type": "markdown",
      "source": [
        "# ***04_tall_enough_to_ride***"
      ],
      "metadata": {
        "id": "gm-wFJyxcOXf"
      }
    },
    {
      "cell_type": "code",
      "source": [
        "MIN_HEIGHT : int = 50\n",
        "try:\n",
        " def tall_enough_extension():\n",
        "  while True:\n",
        "      user_height = float(input(\"How tall are you? \"))\n",
        "      if user_height >= MIN_HEIGHT:\n",
        "          print(\"You are tall enough to ride.\")\n",
        "      else:\n",
        "          print(\"You are not tall enough to ride, but may be next year!\")\n",
        " tall_enough_extension()\n",
        "\n",
        "except ValueError:\n",
        "  print(\"Invalid input. Please enter a valid number.\")"
      ],
      "metadata": {
        "id": "oi79FkQocT9H",
        "colab": {
          "base_uri": "https://localhost:8080/"
        },
        "outputId": "b9f3d664-3c34-422d-c35b-f53ed930a873"
      },
      "execution_count": 16,
      "outputs": [
        {
          "output_type": "stream",
          "name": "stdout",
          "text": [
            "How tall are you? 8\n",
            "You are not tall enough to ride, but may be next year!\n",
            "How tall are you? 78\n",
            "You are tall enough to ride.\n",
            "How tall are you? \n",
            "Invalid input. Please enter a valid number.\n"
          ]
        }
      ]
    },
    {
      "cell_type": "markdown",
      "source": [
        "# ***05_random_numbers***"
      ],
      "metadata": {
        "id": "FFq4PMmfcPbQ"
      }
    },
    {
      "cell_type": "code",
      "source": [
        "import random\n",
        "\n",
        "N_NUMBERS : int = 10\n",
        "MIN_VALUE : int = 1\n",
        "MAX_VALUE : int = 100\n",
        "for _ in range(N_NUMBERS):\n",
        " random_numbers =random.randint(MIN_VALUE, MAX_VALUE)\n",
        "\n",
        " print(random_numbers , end=\", \")\n"
      ],
      "metadata": {
        "id": "gW1UL_z0cWSH",
        "colab": {
          "base_uri": "https://localhost:8080/"
        },
        "outputId": "272f1681-2fb0-4054-838f-e26eb93378f0"
      },
      "execution_count": 38,
      "outputs": [
        {
          "output_type": "stream",
          "name": "stdout",
          "text": [
            "77, 55, 40, 50, 58, 6, 64, 9, 29, 35, "
          ]
        }
      ]
    }
  ]
}