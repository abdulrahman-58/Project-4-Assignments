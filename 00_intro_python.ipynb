{
  "nbformat": 4,
  "nbformat_minor": 0,
  "metadata": {
    "colab": {
      "provenance": [],
      "authorship_tag": "ABX9TyMt1qjccoPj188ilydchWgO",
      "include_colab_link": true
    },
    "kernelspec": {
      "name": "python3",
      "display_name": "Python 3"
    },
    "language_info": {
      "name": "python"
    }
  },
  "cells": [
    {
      "cell_type": "markdown",
      "metadata": {
        "id": "view-in-github",
        "colab_type": "text"
      },
      "source": [
        "<a href=\"https://colab.research.google.com/github/abdulrahman-58/Project-4-Assignments/blob/main/00_intro_python.ipynb\" target=\"_parent\"><img src=\"https://colab.research.google.com/assets/colab-badge.svg\" alt=\"Open In Colab\"/></a>"
      ]
    },
    {
      "cell_type": "markdown",
      "source": [
        "# ***01_add_two_numbers***"
      ],
      "metadata": {
        "id": "KFhtWI7-OWrB"
      }
    },
    {
      "cell_type": "code",
      "execution_count": null,
      "metadata": {
        "id": "y37IPxSl_pXj",
        "colab": {
          "base_uri": "https://localhost:8080/"
        },
        "outputId": "c1814e01-8d1d-4117-8221-b97eb10e0952"
      },
      "outputs": [
        {
          "output_type": "stream",
          "name": "stdout",
          "text": [
            "Welcome to the CLI-based  number adding app.\n",
            "This app will provide the sum of two numbers.\n",
            "Enter the first number: 5\n",
            "Enter the second number: 7\n",
            "The sum is 12.\n"
          ]
        }
      ],
      "source": [
        "print(\"Welcome to the CLI-based  number adding app.\")\n",
        "print(\"This app will provide the sum of two numbers.\")\n",
        "try:\n",
        " number1 = int(input(\"Enter the first number: \"))\n",
        "except ValueError:\n",
        "  print(\"Please write a number to add.\")\n",
        "try:\n",
        " number2 = int(input(\"Enter the second number: \"))\n",
        "except ValueError:\n",
        "  print(\"Please write a number to add.\")\n",
        "try:\n",
        " total = number1 + number2\n",
        " print(f\"The sum is {total}.\")\n",
        "except NameError:\n",
        "  print(\"You need to enter an integer.\")"
      ]
    },
    {
      "cell_type": "markdown",
      "source": [
        "# ***02_agreement_bot***"
      ],
      "metadata": {
        "id": "OUXpORghuaV3"
      }
    },
    {
      "cell_type": "code",
      "source": [
        "fav_animal = input(\"What's your favorite animal? \")\n",
        "\n",
        "print(f\"My favorite animal is also {fav_animal}!\")"
      ],
      "metadata": {
        "colab": {
          "base_uri": "https://localhost:8080/"
        },
        "id": "VFF8pMdUu13d",
        "outputId": "fa06e540-72fc-4997-e34f-1867f4588fb5"
      },
      "execution_count": null,
      "outputs": [
        {
          "output_type": "stream",
          "name": "stdout",
          "text": [
            "What's your favorite animal? \n",
            "My favorite animal is also !\n"
          ]
        }
      ]
    },
    {
      "cell_type": "markdown",
      "source": [
        "# ***03_fahrenheit_to_celsius***"
      ],
      "metadata": {
        "id": "A7K3LV3wxLqE"
      }
    },
    {
      "cell_type": "code",
      "source": [
        "degrees_fahrenheit= int(input(\"Enter a temperature in Fahrenheit: \"))\n",
        "degrees_celsius = (degrees_fahrenheit - 32) * 5.0/9.0\n",
        "print(f\"Temperature: {degrees_fahrenheit}F = {degrees_celsius}C\")"
      ],
      "metadata": {
        "colab": {
          "base_uri": "https://localhost:8080/"
        },
        "id": "55gKIBNgxV2Z",
        "outputId": "11ee8215-fd19-4716-e7a3-558b37ee331b"
      },
      "execution_count": null,
      "outputs": [
        {
          "output_type": "stream",
          "name": "stdout",
          "text": [
            "Enter a temperature in Fahrenheit: 76\n",
            "Temperature: 76F = 24.444444444444443C\n"
          ]
        }
      ]
    },
    {
      "cell_type": "markdown",
      "source": [
        "# ***04_how_old_are_they***"
      ],
      "metadata": {
        "id": "F41g3V0i0JYA"
      }
    },
    {
      "cell_type": "code",
      "source": [
        "# Anton, Beth, Chen, Drew, and Ethan are all friends. Their ages are as follows:\n",
        "# Anton is 21 years old.\n",
        "anton: int = 21\n",
        "# Beth is 6 years older than Anton.\n",
        "beth: int = 6 + anton\n",
        "# Chen is 20 years older than Beth.\n",
        "chen: int = 20 + beth\n",
        "# Drew is as old as Chen's age plus Anton's age.\n",
        "drew = chen + anton\n",
        "# Ethan is the same age as Chen.\n",
        "ethan = chen\n",
        "\n",
        "print(f\"Anton is {anton} years old\")\n",
        "print(f\"Beth is {beth} years old\")\n",
        "print(f\"Chen is {chen} years old\")\n",
        "print(f\"Drew is {drew} years old\")\n",
        "print(f\"Ethan is {ethan} years old\")"
      ],
      "metadata": {
        "id": "nTZHmeer0Xa3",
        "colab": {
          "base_uri": "https://localhost:8080/"
        },
        "outputId": "fefc9c53-fe8c-4a5d-e3ba-dc5eb4e83d26"
      },
      "execution_count": 3,
      "outputs": [
        {
          "output_type": "stream",
          "name": "stdout",
          "text": [
            "Anton is 21 years old\n",
            "Beth is 27 years old\n",
            "Chen is 47 years old\n",
            "Drew is 68 years old\n",
            "Ethan is 47 years old\n"
          ]
        }
      ]
    },
    {
      "cell_type": "markdown",
      "source": [
        "# ***05_triangle_perimeter***"
      ],
      "metadata": {
        "id": "AMLH9TfHhZsq"
      }
    },
    {
      "cell_type": "code",
      "source": [
        "print(\"Welcome to triangle perimeter app\")\n",
        "try:\n",
        " first_side = float(input(\"What is the length of side 1? \"))\n",
        " second_side = float(input(\"What is the length of side 2? \"))\n",
        " third_side = float(input(\"What is the length of side 3? \"))\n",
        "# Calculating perimeter of the triangle and printing it.\n",
        " cal_perimeter = first_side + second_side + third_side\n",
        " print(f\"The perimeter of the triangle is {cal_perimeter}.\")\n",
        "except ValueError:\n",
        "  print(\"Please enter a number.\")"
      ],
      "metadata": {
        "colab": {
          "base_uri": "https://localhost:8080/"
        },
        "id": "ttMnYWHphgJ4",
        "outputId": "c754bb7d-ea67-4227-8927-31ebe6e7eef6"
      },
      "execution_count": 14,
      "outputs": [
        {
          "output_type": "stream",
          "name": "stdout",
          "text": [
            "Welcome to triangle perimeter app\n",
            "What is the length of side 1? 5\n",
            "What is the length of side 2? 6\n",
            "What is the length of side 3? 7\n",
            "The perimeter of the triangle is 18.0.\n"
          ]
        }
      ]
    },
    {
      "cell_type": "markdown",
      "source": [
        "# ***06_square_number***"
      ],
      "metadata": {
        "id": "nQuttOdnmN1C"
      }
    },
    {
      "cell_type": "code",
      "source": [
        "print(\"Enter a number and get it's square\")\n",
        "try:\n",
        " num = float(input(\"Type a number to see its square: \"))\n",
        " squaring = num ** 2\n",
        " print(f\"{num} squared is {squaring}\")\n",
        "except ValueError:\n",
        "  print(\"You need to enter a number.\")"
      ],
      "metadata": {
        "colab": {
          "base_uri": "https://localhost:8080/"
        },
        "id": "gDwirWzUmX0k",
        "outputId": "356e8ee8-c02c-468e-8793-283b9b01c30d"
      },
      "execution_count": 21,
      "outputs": [
        {
          "output_type": "stream",
          "name": "stdout",
          "text": [
            "Enter a number and get it's square\n",
            "Type a number to see its square: 6\n",
            "6.0 squared is 36.0\n"
          ]
        }
      ]
    }
  ]
}