{
  "nbformat": 4,
  "nbformat_minor": 0,
  "metadata": {
    "colab": {
      "provenance": [],
      "authorship_tag": "ABX9TyN9H/ISBemJ6BHjlJuFhgAi",
      "include_colab_link": true
    },
    "kernelspec": {
      "name": "python3",
      "display_name": "Python 3"
    },
    "language_info": {
      "name": "python"
    }
  },
  "cells": [
    {
      "cell_type": "markdown",
      "metadata": {
        "id": "view-in-github",
        "colab_type": "text"
      },
      "source": [
        "<a href=\"https://colab.research.google.com/github/abdulrahman-58/Project-4-Assignments/blob/main/01_basics.ipynb\" target=\"_parent\"><img src=\"https://colab.research.google.com/assets/colab-badge.svg\" alt=\"Open In Colab\"/></a>"
      ]
    },
    {
      "cell_type": "markdown",
      "source": [
        "# ***00_joke_bot***"
      ],
      "metadata": {
        "id": "82-uZdtlBHY0"
      }
    },
    {
      "cell_type": "code",
      "execution_count": 5,
      "metadata": {
        "id": "tK4jXe3OA_jP",
        "colab": {
          "base_uri": "https://localhost:8080/"
        },
        "outputId": "2e496dc8-30a2-42d1-d13e-b855f1a22478"
      },
      "outputs": [
        {
          "output_type": "stream",
          "name": "stdout",
          "text": [
            "What do you want? joke\n",
            "Here is a joke for you! Sophia is heading out to the grocery store. A programmer tells her: get a liter of milk, and if they have eggs, get 12. Sophia returns with 13 liters of milk. The programmer asks why and Sophia replies: 'because they had eggs'\n"
          ]
        }
      ],
      "source": [
        "PROMPT: str = \"What do you want? \"\n",
        "JOKE: str = \"Here is a joke for you! Sophia is heading out to the grocery store. A programmer tells her: get a liter of milk, and if they have eggs, get 12. Sophia returns with 13 liters of milk. The programmer asks why and Sophia replies: 'because they had eggs'\"\n",
        "SORRY: str = \"Sorry I only tell jokes.\"\n",
        "\n",
        "def main():\n",
        "  user_input = input(PROMPT).strip().lower()\n",
        "  if user_input == \"joke\":\n",
        "    print(JOKE)\n",
        "  else:\n",
        "    print(SORRY)\n",
        "\n",
        "if __name__ == \"__main__\":\n",
        "  main()"
      ]
    },
    {
      "cell_type": "markdown",
      "source": [
        "# ***01_double_it***"
      ],
      "metadata": {
        "id": "iiJ7gvZxBKAz"
      }
    },
    {
      "cell_type": "code",
      "source": [
        "def main():\n",
        "  try:\n",
        "   curr_val = int(input(\"Enter a number to see it's double: \"))\n",
        "\n",
        "   while curr_val < 100:\n",
        "    curr_val *= 2\n",
        "    print(curr_val , end = \" \")\n",
        "\n",
        "  except ValueError:\n",
        "    print(\"Invalid input. Please enter a valid number.\")\n",
        "\n",
        "if __name__ == \"__main__\":\n",
        "  main()"
      ],
      "metadata": {
        "colab": {
          "base_uri": "https://localhost:8080/"
        },
        "id": "iO0-1rUHRoJP",
        "outputId": "7cd57e57-df08-4e93-fa1d-f393f5b98d13"
      },
      "execution_count": 14,
      "outputs": [
        {
          "output_type": "stream",
          "name": "stdout",
          "text": [
            "Enter a number to see it's double: 3\n",
            "6 12 24 48 96 192 "
          ]
        }
      ]
    },
    {
      "cell_type": "markdown",
      "source": [
        "# ***02_liftoff***"
      ],
      "metadata": {
        "id": "JIPkdafTBKlt"
      }
    },
    {
      "cell_type": "code",
      "source": [
        "def main():\n",
        "  for i in range(10):\n",
        "    print(10 - i , end=\" \")\n",
        "  print(\"Liftoff!\")\n",
        "\n",
        "if __name__ == \"__main__\":\n",
        "  main()\n"
      ],
      "metadata": {
        "id": "sYQjg5O2BKuq",
        "colab": {
          "base_uri": "https://localhost:8080/"
        },
        "outputId": "6bf5e0f8-19ba-46fe-82c3-e68d65e82138"
      },
      "execution_count": 17,
      "outputs": [
        {
          "output_type": "stream",
          "name": "stdout",
          "text": [
            "10 9 8 7 6 5 4 3 2 1 Liftoff!\n"
          ]
        }
      ]
    },
    {
      "cell_type": "markdown",
      "source": [
        "# ***03_guess_my_number***"
      ],
      "metadata": {
        "id": "E4SJztaKBK3L"
      }
    },
    {
      "cell_type": "code",
      "source": [
        "import random\n",
        "def main():\n",
        "  try:\n",
        "   secrete_numbers = random.randint(1,99)\n",
        "   print(\"I am thinking of a number between 1 and 99...\")\n",
        "   guess = int(input(\"What is your guess? \"))\n",
        "   while guess != secrete_numbers:\n",
        "    if guess < secrete_numbers:\n",
        "     print(\"Too low, try again.\")\n",
        "    else:\n",
        "     print(\"Too high, try again.\")\n",
        "\n",
        "    print()\n",
        "    guess = int(input(\"What is your guess? \"))\n",
        "\n",
        "   print(\"Congratulations! You guessed the number!\")\n",
        "\n",
        "  except ValueError:\n",
        "    print(\"Invalid input. Please enter a valid number.\")\n",
        "\n",
        "if __name__ == \"__main__\":\n",
        "  main()\n"
      ],
      "metadata": {
        "id": "ftghT5g6BK-7",
        "colab": {
          "base_uri": "https://localhost:8080/"
        },
        "outputId": "7237c10c-54a8-454e-837f-cd31e650e692"
      },
      "execution_count": 20,
      "outputs": [
        {
          "output_type": "stream",
          "name": "stdout",
          "text": [
            "I am thinking of a number between 1 and 99...\n",
            "What is your guess? 34\n",
            "Too high, try again.\n",
            "\n",
            "What is your guess? 89\n",
            "Too high, try again.\n",
            "\n",
            "What is your guess? 45\n",
            "Too high, try again.\n",
            "\n",
            "What is your guess? 23\n",
            "Too high, try again.\n",
            "\n",
            "What is your guess? 15\n",
            "Too high, try again.\n",
            "\n",
            "What is your guess? 16\n",
            "Too high, try again.\n",
            "\n",
            "What is your guess? 1\n",
            "Too low, try again.\n",
            "\n",
            "What is your guess? 54\n",
            "Too high, try again.\n",
            "\n",
            "What is your guess? 90\n",
            "Too high, try again.\n",
            "\n",
            "What is your guess? \n",
            "Invalid input. Please enter a valid number.\n"
          ]
        }
      ]
    },
    {
      "cell_type": "markdown",
      "source": [
        "# ***04_random_numbers***"
      ],
      "metadata": {
        "id": "ADMO5XJhBMZM"
      }
    },
    {
      "cell_type": "code",
      "source": [
        "import random\n",
        "\n",
        "N_NUMBERS: int = 10\n",
        "MIN_VALUE: int = 1\n",
        "MAX_VALUE: int = 100\n",
        "\n",
        "def main():\n",
        "  for i in range(N_NUMBERS):\n",
        "    print(random.randint(MIN_VALUE, MAX_VALUE), end=\" \")\n",
        "\n",
        "if __name__ == \"__main__\":\n",
        "  main()\n"
      ],
      "metadata": {
        "id": "zaQRNknRBMzT",
        "colab": {
          "base_uri": "https://localhost:8080/"
        },
        "outputId": "cf388378-defe-431e-e328-b5c6e2a90b15"
      },
      "execution_count": 22,
      "outputs": [
        {
          "output_type": "stream",
          "name": "stdout",
          "text": [
            "62 24 27 40 50 18 13 66 4 27 "
          ]
        }
      ]
    }
  ]
}
