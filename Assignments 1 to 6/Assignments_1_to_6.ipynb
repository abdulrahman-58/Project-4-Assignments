{
  "nbformat": 4,
  "nbformat_minor": 0,
  "metadata": {
    "colab": {
      "provenance": [],
      "authorship_tag": "ABX9TyM6h0h1oTnFrO09p8LEFqI5",
      "include_colab_link": true
    },
    "kernelspec": {
      "name": "python3",
      "display_name": "Python 3"
    },
    "language_info": {
      "name": "python"
    }
  },
  "cells": [
    {
      "cell_type": "markdown",
      "metadata": {
        "id": "view-in-github",
        "colab_type": "text"
      },
      "source": [
        "<a href=\"https://colab.research.google.com/github/abdulrahman-58/Project-4-Assignments/blob/main/Assignments%201%20to%206/Assignments_1_to_6.ipynb\" target=\"_parent\"><img src=\"https://colab.research.google.com/assets/colab-badge.svg\" alt=\"Open In Colab\"/></a>"
      ]
    },
    {
      "cell_type": "markdown",
      "source": [
        "# ***Project 1: Mad libs Python Project***"
      ],
      "metadata": {
        "id": "ipDqH13gAjo9"
      }
    },
    {
      "cell_type": "code",
      "execution_count": null,
      "metadata": {
        "colab": {
          "base_uri": "https://localhost:8080/"
        },
        "id": "3LifdBajAKjk",
        "outputId": "b9ff9485-f993-4c51-d712-0467fda3b424"
      },
      "outputs": [
        {
          "output_type": "stream",
          "name": "stdout",
          "text": [
            "🦸 Welcome to the Ultimate Mad Libs: Superhero Edition!\n",
            "Fill in the blanks to create your unique superhero story.\n",
            "\n",
            "Enter a superhero name: Captain Coder\n",
            "Enter a superpower: typing 200 words per minute\n",
            "Enter a villain's name: Bugzilla\n",
            "Enter a place (e.g., New York, Mars, School): Silicon Valley\n",
            "Enter an object: keyboard\n",
            "Enter an animal: cat\n",
            "Enter a silly word (e.g., boing, kaboom): bazoinga\n",
            "Enter an adjective: unstoppable\n",
            "Enter a sound effect (e.g., boom, zap, crash): zap\n",
            "\n",
            "📝 Here is your Mad Libs Superhero Story!\n",
            "\n",
            "    🦸‍♂️ Meet Captain Coder, the most unstoppable superhero in the universe!\n",
            "    \n",
            "    One day, while enjoying a quiet afternoon in Silicon Valley, a sudden zap echoed across the sky!\n",
            "    It was the evil villain Bugzilla, threatening to turn every cat into a keyboard!\n",
            "\n",
            "    With a quick shout of \"BAZOINGA!\", Captain Coder sprang into action.\n",
            "\n",
            "    Using the mighty power of typing 200 words per minute, they zoomed through the clouds, leaving behind a trail of glitter and justice.\n",
            "    After an epic battle of wits and willpower, Captain Coder saved the day — and even signed autographs afterward.\n",
            "\n",
            "    🏆 The city cheered, \"Thank you, Captain Coder! You truly are our unstoppable hero!\"\n",
            "\n",
            "    👏 The End.\n",
            "    \n"
          ]
        }
      ],
      "source": [
        "def main():\n",
        "    print(\"🦸 Welcome to the Ultimate Mad Libs: Superhero Edition!\")\n",
        "    print(\"Fill in the blanks to create your unique superhero story.\\n\")\n",
        "\n",
        "    # Gather inputs from the user\n",
        "    name = input(\"Enter a superhero name: \")\n",
        "    power = input(\"Enter a superpower: \")\n",
        "    villain = input(\"Enter a villain's name: \")\n",
        "    place = input(\"Enter a place (e.g., New York, Mars, School): \")\n",
        "    object_ = input(\"Enter an object: \")\n",
        "    animal = input(\"Enter an animal: \")\n",
        "    silly_word = input(\"Enter a silly word (e.g., boing, kaboom): \")\n",
        "    adjective = input(\"Enter an adjective: \")\n",
        "    sound = input(\"Enter a sound effect (e.g., boom, zap, crash): \")\n",
        "\n",
        "    # Story template\n",
        "    story = f\"\"\"\n",
        "    🦸‍♂️ Meet {name}, the most {adjective} superhero in the universe!\n",
        "\n",
        "    One day, while enjoying a quiet afternoon in {place}, a sudden {sound} echoed across the sky!\n",
        "    It was the evil villain {villain}, threatening to turn every {animal} into a {object_}!\n",
        "\n",
        "    With a quick shout of \"{silly_word.upper()}!\", {name} sprang into action.\n",
        "\n",
        "    Using the mighty power of {power}, they zoomed through the clouds, leaving behind a trail of glitter and justice.\n",
        "    After an epic battle of wits and willpower, {name} saved the day — and even signed autographs afterward.\n",
        "\n",
        "    🏆 The city cheered, \"Thank you, {name}! You truly are our {adjective} hero!\"\n",
        "\n",
        "    👏 The End.\n",
        "    \"\"\"\n",
        "\n",
        "    print(\"\\n📝 Here is your Mad Libs Superhero Story!\")\n",
        "    print(story)\n",
        "\n",
        "if __name__ == \"__main__\":\n",
        "    main()\n"
      ]
    },
    {
      "cell_type": "markdown",
      "source": [
        "# ***Project 2: Guess the Number Game Python Project (computer)***"
      ],
      "metadata": {
        "id": "r0awdcdyAlJL"
      }
    },
    {
      "cell_type": "code",
      "source": [
        "import random\n",
        "def main():\n",
        "  try:\n",
        "    print(\"Welcome to the Guess the Number Game\")\n",
        "    random_number = random.randint(1, 10)\n",
        "    guess = None\n",
        "\n",
        "    while guess != random_number:\n",
        "       guess = int(input(\"Pick a number from 1 to 10: \"))\n",
        "       if guess < random_number:\n",
        "        print(\"Too low, guess again\")\n",
        "       elif guess > random_number:\n",
        "        print(\"Too high, guess again\")\n",
        "\n",
        "    print(f\"Yup!! You guessed a correct number {random_number}!\")\n",
        "    print(\"Thanks for playing\")\n",
        "  except ValueError:\n",
        "    print(\"Please enter a number\")\n",
        "\n",
        "if __name__ == \"__main__\":\n",
        "    main()"
      ],
      "metadata": {
        "id": "lJpTB2tMAnGa",
        "colab": {
          "base_uri": "https://localhost:8080/"
        },
        "outputId": "b784ba27-9104-4f07-c816-7adb155339a7"
      },
      "execution_count": null,
      "outputs": [
        {
          "output_type": "stream",
          "name": "stdout",
          "text": [
            "Welcome to the Guess the Number Game\n",
            "Pick a number from 1 to 10: 5\n",
            "Yup!! You guessed a correct number 5!\n",
            "Thanks for playing\n"
          ]
        }
      ]
    },
    {
      "cell_type": "markdown",
      "source": [
        "# ***Project 3: Guess the Number Game Python Project (user)***"
      ],
      "metadata": {
        "id": "FviYNQtdAoYr"
      }
    },
    {
      "cell_type": "code",
      "source": [
        "def computer_guess(x):\n",
        "  low = 1\n",
        "  high = x\n",
        "  feedback = ''\n",
        "  while feedback != 'c':\n",
        "    if low != high:\n",
        "      guess = random.randint(low, high)\n",
        "    else:\n",
        "      guess = low\n",
        "    feedback = input(f'Is {guess} too high (H), too low (L), or correct (C)?? ').lower()\n",
        "    if feedback == 'h':\n",
        "      high = guess - 1\n",
        "    elif feedback == 'l':\n",
        "      low = guess + 1\n",
        "  print(f'Yay! The computer guessed your number, {guess}, correctly!')\n",
        "\n",
        "computer_guess(10)\n"
      ],
      "metadata": {
        "id": "MP9gm7l7Aozr",
        "colab": {
          "base_uri": "https://localhost:8080/"
        },
        "outputId": "e77a001e-1950-4abd-d509-e7261af71b11"
      },
      "execution_count": null,
      "outputs": [
        {
          "output_type": "stream",
          "name": "stdout",
          "text": [
            "Is 3 too high (H), too low (L), or correct (C)?? l\n",
            "Is 7 too high (H), too low (L), or correct (C)?? l\n",
            "Is 8 too high (H), too low (L), or correct (C)?? c\n",
            "Yay! The computer guessed your number, 8, correctly!\n"
          ]
        }
      ]
    },
    {
      "cell_type": "markdown",
      "source": [
        "# ***Project 4: Rock, paper, scissors Python Project***"
      ],
      "metadata": {
        "id": "5Xsk6qnzAo-b"
      }
    },
    {
      "cell_type": "code",
      "source": [
        "import random\n",
        "def play():\n",
        "  user = input(\"What's your choice? 'r' for rock, 'p' for paper, 's' for scissors\\n\")\n",
        "  computer = random.choice(['r', 'p', 's'])\n",
        "\n",
        "  if user == computer:\n",
        "    return 'It\\'s a tie'\n",
        "\n",
        "  if is_win(user, computer):\n",
        "    return 'You won!'\n",
        "\n",
        "  return 'You lost!'\n",
        "\n",
        "def is_win(player, opponent):\n",
        "  if (player == 'r' and opponent == 's') or (player == 's' and opponent == 'p') \\\n",
        "    or (player == 'p' and opponent == 'r'):\n",
        "    return True\n",
        "print(play())"
      ],
      "metadata": {
        "id": "DbqAJ2a1ApHL",
        "colab": {
          "base_uri": "https://localhost:8080/"
        },
        "outputId": "e4a8deea-a71f-4714-aa4e-c6a52a70c1a6"
      },
      "execution_count": null,
      "outputs": [
        {
          "output_type": "stream",
          "name": "stdout",
          "text": [
            "What's your choice? 'r' for rock, 'p' for paper, 's' for scissors\n",
            "p\n",
            "You won!\n"
          ]
        }
      ]
    },
    {
      "cell_type": "markdown",
      "source": [
        "# ***Project 5: Hangman Python Project***"
      ],
      "metadata": {
        "id": "KgXP6-dNApP7"
      }
    },
    {
      "cell_type": "code",
      "source": [
        "import random\n",
        "import string\n",
        "\n",
        "def get_valid_word(words):\n",
        "    word = random.choice(words)\n",
        "    while '-' in word or ' ' in word:\n",
        "        word = random.choice(words)\n",
        "    return word\n",
        "\n",
        "def hangman():\n",
        "    words = ['python', 'java', 'kotlin', 'javascript']\n",
        "    word = get_valid_word(words)\n",
        "    word_letters = set(word)\n",
        "    alphabet = set(string.ascii_lowercase)\n",
        "    used_letters = set()\n",
        "\n",
        "    lives = 6\n",
        "\n",
        "    while len(word_letters) > 0 and lives > 0:\n",
        "        # Show status before input\n",
        "        print(f\"\\nYou have {lives} lives left. Used letters: {' '.join(sorted(used_letters))}\")\n",
        "\n",
        "        # Show current guessed word\n",
        "        word_list = [letter if letter in used_letters else '-' for letter in word]\n",
        "        print(\"Current word:\", ' '.join(word_list))\n",
        "\n",
        "        # Take input\n",
        "        user_letter = input(\"Guess a letter: \").lower()\n",
        "\n",
        "        # Main logic\n",
        "        if user_letter in alphabet - used_letters:\n",
        "            used_letters.add(user_letter)\n",
        "            if user_letter in word_letters:\n",
        "                word_letters.remove(user_letter)\n",
        "                print(\"✅ Good guess!\")\n",
        "            else:\n",
        "                lives -= 1\n",
        "                print(\"❌ Wrong guess.\")\n",
        "        elif user_letter in used_letters:\n",
        "            print(\"⚠️ You already used that letter.\")\n",
        "        else:\n",
        "            print(\"🚫 Invalid input. Please enter a letter.\")\n",
        "\n",
        "    # End of game\n",
        "    if lives == 0:\n",
        "        print(f\"\\n💀 You lost! The word was: {word}\")\n",
        "    else:\n",
        "        print(f\"\\n🎉 You guessed the word: {word}!\")\n",
        "\n",
        "hangman()\n",
        "\n"
      ],
      "metadata": {
        "colab": {
          "base_uri": "https://localhost:8080/"
        },
        "id": "WVih0A79BRJv",
        "outputId": "f0de8245-f290-4b33-8487-ff9e077f93c2"
      },
      "execution_count": 2,
      "outputs": [
        {
          "output_type": "stream",
          "name": "stdout",
          "text": [
            "\n",
            "You have 6 lives left. Used letters: \n",
            "Current word: - - - - - -\n",
            "Guess a letter: p y t h o n\n",
            "🚫 Invalid input. Please enter a letter.\n",
            "\n",
            "You have 6 lives left. Used letters: \n",
            "Current word: - - - - - -\n",
            "Guess a letter: p\n",
            "❌ Wrong guess.\n",
            "\n",
            "You have 5 lives left. Used letters: p\n",
            "Current word: - - - - - -\n",
            "Guess a letter: g\n",
            "❌ Wrong guess.\n",
            "\n",
            "You have 4 lives left. Used letters: g p\n",
            "Current word: - - - - - -\n",
            "Guess a letter: s\n",
            "❌ Wrong guess.\n",
            "\n",
            "You have 3 lives left. Used letters: g p s\n",
            "Current word: - - - - - -\n",
            "Guess a letter: l\n",
            "✅ Good guess!\n",
            "\n",
            "You have 3 lives left. Used letters: g l p s\n",
            "Current word: - - - l - -\n",
            "Guess a letter: k\n",
            "✅ Good guess!\n",
            "\n",
            "You have 3 lives left. Used letters: g k l p s\n",
            "Current word: k - - l - -\n",
            "Guess a letter: o\n",
            "✅ Good guess!\n",
            "\n",
            "You have 3 lives left. Used letters: g k l o p s\n",
            "Current word: k o - l - -\n",
            "Guess a letter: n\n",
            "✅ Good guess!\n",
            "\n",
            "You have 3 lives left. Used letters: g k l n o p s\n",
            "Current word: k o - l - n\n",
            "Guess a letter: i\n",
            "✅ Good guess!\n",
            "\n",
            "You have 3 lives left. Used letters: g i k l n o p s\n",
            "Current word: k o - l i n\n",
            "Guess a letter: t\n",
            "✅ Good guess!\n",
            "\n",
            "🎉 You guessed the word: kotlin!\n"
          ]
        }
      ]
    },
    {
      "cell_type": "markdown",
      "source": [
        "# ***Project 6: Countdown Timer Python Project***"
      ],
      "metadata": {
        "id": "UzP2WBJcAtA0"
      }
    },
    {
      "cell_type": "code",
      "source": [
        "import time\n",
        "from IPython.display import clear_output\n",
        "\n",
        "def countdown(t):\n",
        "    while t:\n",
        "        mins, secs = divmod(t, 60)\n",
        "        timer = '{:02d}:{:02d}'.format(mins, secs)\n",
        "        clear_output(wait=True)\n",
        "        print(timer)\n",
        "        time.sleep(1)\n",
        "        t -= 1\n",
        "\n",
        "    clear_output(wait=True)\n",
        "    print(\"⏰ Timer completed!\")\n",
        "try:\n",
        " t = int(input(\"Enter time in seconds: \"))\n",
        " countdown(t)\n",
        "except ValueError:\n",
        "  print(\"Invalid input. Please enter a valid number of seconds.\")"
      ],
      "metadata": {
        "id": "XHHXtDV7Atqq",
        "colab": {
          "base_uri": "https://localhost:8080/"
        },
        "outputId": "7a5c8c77-a5a8-4896-9b23-d4d06e42c872"
      },
      "execution_count": 17,
      "outputs": [
        {
          "output_type": "stream",
          "name": "stdout",
          "text": [
            "⏰ Timer completed!\n"
          ]
        }
      ]
    }
  ]
}